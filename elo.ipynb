{
 "cells": [
  {
   "cell_type": "markdown",
   "metadata": {},
   "source": [
    "## Elo Rating method\n",
    "\n",
    "This is the Elo method.  The example is taken from \"Who's #1\" by Langville and Meyer and the results match.  Note, the data includes the entire 2009 NFL season, including all playoff games.  \n",
    "\n",
    "Reference: https://www.gautamnarula.com/rating/"
   ]
  },
  {
   "cell_type": "code",
   "execution_count": 22,
   "metadata": {},
   "outputs": [],
   "source": [
    "#This cell contains the main calculations associated with the Elo method\n",
    "#The first function calculates the probability of each team winning\n",
    "#The second function takes those probabilities, and the outcome of the game to determine the new ratings\n",
    "\n",
    "import math \n",
    "  \n",
    "# Function to calculate the Probability \n",
    "def Probability(rating1, rating2): \n",
    "  \n",
    "    return 1.0 * 1.0 / (1 + 1.0 * math.pow(10, 1.0 * (rating1 - rating2) / 400)) \n",
    "  \n",
    "# Function to calculate Elo rating \n",
    "# K is a constant. \n",
    "# Player A wins over Player B.  \n",
    "# tie = true if tie, false otherwise\n",
    "def EloRating(Ra, Rb, K, tie): \n",
    "    \n",
    "    # To calculate the Winning \n",
    "    # Probability of Player B \n",
    "    Pb = Probability(Ra, Rb) \n",
    "  \n",
    "    # To calculate the Winning \n",
    "    # Probability of Player A \n",
    "    Pa = Probability(Rb, Ra) \n",
    "  \n",
    "    # Updating the Elo Ratings \n",
    "    if tie:\n",
    "       Ra = Ra + K * (1/2 - Pa) \n",
    "        \n",
    "       Rb = Rb + K * (1/2 - Pb) \n",
    "    else:        \n",
    "       Ra = Ra + K * (1 - Pa) \n",
    "       Rb = Rb + K * (0 - Pb) \n",
    "    \n",
    "    return Ra, Rb"
   ]
  },
  {
   "cell_type": "code",
   "execution_count": 23,
   "metadata": {},
   "outputs": [],
   "source": [
    "pathGames = '/FILEPATH/' #filepath to game file\n",
    "pathTeams = '/FILEPATH/' #filepath to team file\n",
    "gameFilename = '.txt'\n",
    "teamFilename = '.txt'\n",
    "\n",
    "#We got our data from masseyratings.com, so reading the files is based on the structure of those files"
   ]
  },
  {
   "cell_type": "markdown",
   "metadata": {},
   "source": [
    "### Load the team names into an array"
   ]
  },
  {
   "cell_type": "code",
   "execution_count": 24,
   "metadata": {},
   "outputs": [],
   "source": [
    "import pandas as pd\n",
    "\n",
    "teamNames = pd.read_csv(pathTeams + teamFilename, header = None)\n",
    "numTeams = len(teamNames)"
   ]
  },
  {
   "cell_type": "markdown",
   "metadata": {},
   "source": [
    "### Load the games"
   ]
  },
  {
   "cell_type": "code",
   "execution_count": 25,
   "metadata": {},
   "outputs": [],
   "source": [
    "# columns of games are:\n",
    "#\tcolumn 0 = days since 1/1/0000\n",
    "#\tcolumn 1 = date in YYYYMMDD format\n",
    "#\tcolumn 2 = team1 index\n",
    "#\tcolumn 3 = team1 homefield (1 = home, -1 = away, 0 = neutral)\n",
    "#\tcolumn 4 = team1 score\n",
    "#\tcolumn 5 = team2 index\n",
    "#\tcolumn 6 = team2 homefield (1 = home, -1 = away, 0 = neutral)\n",
    "#\tcolumn 7 = team2 score\n",
    "\n",
    "games = pd.read_csv(pathGames + gameFilename, header = None)\n",
    "numGames = len(games)"
   ]
  },
  {
   "cell_type": "markdown",
   "metadata": {},
   "source": [
    "### Create Elo ratings and calculate predictability"
   ]
  },
  {
   "cell_type": "code",
   "execution_count": 26,
   "metadata": {},
   "outputs": [],
   "source": [
    "import numpy as np\n",
    "\n",
    "K = 32\n",
    "\n",
    "eloRatings = np.zeros(numTeams)\n",
    "\n",
    "numberCorrectPredictions = 0\n",
    "\n",
    "for i in range(numGames):\n",
    "    team1ID = games.loc[i, 2] - 1 # subtracting 1 since python indexes at 0\n",
    "    team1Score = games.loc[i, 4]\n",
    "    team2ID = games.loc[i, 5] - 1 # subtracting 1 since python indexes at 0\n",
    "    team2Score = games.loc[i, 7]\n",
    "\n",
    "    # Check if prediction correct\n",
    "    if team1Score > team2Score and eloRatings[team1ID] > eloRatings[team2ID]:\n",
    "        numberCorrectPredictions += 1\n",
    "    elif team2Score > team1Score and eloRatings[team2ID] > eloRatings[team1ID]:\n",
    "        numberCorrectPredictions += 1\n",
    "    elif team1Score == team2Score and eloRatings[team1ID] == eloRatings[team2ID]:\n",
    "        numberCorrectPredictions += 1\n",
    "    \n",
    "    # Update ratings \n",
    "    if team1Score > team2Score:\n",
    "        team1Rating, team2Rating = EloRating(eloRatings[team1ID], eloRatings[team2ID], K, False)\n",
    "    elif team1Score < team2Score:\n",
    "        team2Rating, team1Rating = EloRating(eloRatings[team2ID], eloRatings[team1ID], K, False)\n",
    "    else:  \n",
    "        team1Rating, team2Rating = EloRating(eloRatings[team1ID], eloRatings[team2ID], K, True)\n",
    "        \n",
    "    eloRatings[team1ID] = team1Rating\n",
    "    eloRatings[team2ID] = team2Rating"
   ]
  },
  {
   "cell_type": "markdown",
   "metadata": {},
   "source": [
    "### Sort and print the ranking of teams"
   ]
  },
  {
   "cell_type": "code",
   "execution_count": 27,
   "metadata": {},
   "outputs": [
    {
     "name": "stdout",
     "output_type": "stream",
     "text": [
      "\n",
      "\n",
      "************** ELO Rating Method **************\n",
      "\n",
      "===========================\n",
      "Rank   Rating      Team   \n",
      "===========================\n",
      "   1   230.89868   Oklahoma_City\n",
      "   2   166.49674   Boston\n",
      "   3   155.05892   Cleveland\n",
      "   4   118.30882   LA_Clippers\n",
      "   5   106.61023   Indiana\n",
      "   6   92.74305   Minnesota\n",
      "   7   86.72842   Golden_State\n",
      "   8   85.23112   Milwaukee\n",
      "   9   82.27257   LA_Lakers\n",
      "  10   81.24448   Houston\n",
      "  11   75.82264   Denver\n",
      "  12   66.20988   New_York\n",
      "  13   28.82729   Memphis\n",
      "  14   27.63981   Detroit\n",
      "  15   11.33565   Orlando\n",
      "  16   6.27668   Chicago\n",
      "  17   -9.29066   Portland\n",
      "  18   -19.55258   Sacramento\n",
      "  19   -31.81497   Atlanta\n",
      "  20   -33.64353   Miami\n",
      "  21   -46.15285   Dallas\n",
      "  22   -56.05162   Phoenix\n",
      "  23   -67.08389   San_Antonio\n",
      "  24   -83.43978   Toronto\n",
      "  25   -140.50753   Brooklyn\n",
      "  26   -158.04351   New_Orleans\n",
      "  27   -181.55195   Washington\n",
      "  28   -184.91089   Philadelphia\n",
      "  29   -204.04381   Utah\n",
      "  30   -205.61743   Charlotte\n",
      "\n",
      "Average Predictability: 62.33%\n"
     ]
    }
   ],
   "source": [
    "#This cell prints the ratings and rankings\n",
    "k = 0 \n",
    "iSort = np.argsort(-eloRatings)\n",
    "\n",
    "print('\\n\\n************** ELO Rating Method **************\\n')\n",
    "print('===========================')\n",
    "print('Rank   Rating      Team   ')\n",
    "print('===========================')\n",
    "if k == 0:\n",
    "    for i in range(numTeams):\n",
    "        print(f'{i+1:4d}   {eloRatings[iSort[i]]:.5f}  {teamNames.loc[iSort[i],1]}')\n",
    "else:\n",
    "    for i in range(k):\n",
    "        print(f'{i+1:4d}   {eloRatings[iSort[i]]:.5f}  {teamNames.loc[iSort[i],1]}')\n",
    "    \n",
    "print('')   # extra carriage return\n",
    "    \n",
    "print(f'Average Predictability: {numberCorrectPredictions/(numGames)*100:.2f}%')"
   ]
  }
 ],
 "metadata": {
  "kernelspec": {
   "display_name": "Python 3.10",
   "language": "python",
   "name": "python-3.10"
  },
  "language_info": {
   "codemirror_mode": {
    "name": "ipython",
    "version": 3
   },
   "file_extension": ".py",
   "mimetype": "text/x-python",
   "name": "python",
   "nbconvert_exporter": "python",
   "pygments_lexer": "ipython3",
   "version": "3.10.4"
  }
 },
 "nbformat": 4,
 "nbformat_minor": 4
}
