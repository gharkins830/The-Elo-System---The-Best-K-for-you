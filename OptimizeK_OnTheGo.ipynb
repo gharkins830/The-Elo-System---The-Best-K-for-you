{
 "cells": [
  {
   "cell_type": "markdown",
   "id": "c4780d98-ed3a-43df-9713-d7584ed665fa",
   "metadata": {},
   "source": [
    "## Optimize K On The Go\n",
    "\n",
    "This notebook will take in your dataset, and it will find the K value that leads to the Elo ratings best fitting the data at all points throughout the season. This notebook also runs the Elo system at that K value.\n",
    "\n",
    "Compared to OptimizeK_FullTraining, this method for optimizing K will value its accuracy at all points in the season, so it produces the K that is the most accurate to the outcome of every game at the time of the game. This idea originally comes from https://opisthokonta.net/?p=1387\n",
    "\n",
    "-Grant Harkins"
   ]
  },
  {
   "cell_type": "code",
   "execution_count": 1,
   "id": "e21ca971-5b9b-4709-aa72-193316a243ab",
   "metadata": {},
   "outputs": [],
   "source": [
    "#This cell contains the main calculations associated with the Elo method\n",
    "#The first function calculates the probability of each team winning\n",
    "#The second function takes those probabilities, and the outcome of the game to determine the new ratings\n",
    "\n",
    "import math  \n",
    "def Probability(rating1, rating2): \n",
    "  \n",
    "    return 1.0 * 1.0 / (1 + 1.0 * math.pow(10, 1.0 * (rating1 - rating2) / 400)) \n",
    "  \n",
    "# Function to calculate Elo rating \n",
    "# K is a constant. \n",
    "# Player A wins over Player B.  \n",
    "# tie = true if tie, false otherwise\n",
    "def EloRating(Ra, Rb, K, tie): \n",
    "    \n",
    "    # To calculate the Winning \n",
    "    # Probability of Player B \n",
    "    Pb = Probability(Ra, Rb) \n",
    "  \n",
    "    # To calculate the Winning \n",
    "    # Probability of Player A \n",
    "    Pa = Probability(Rb, Ra) \n",
    "  \n",
    "    # Updating the Elo Ratings \n",
    "    if tie:\n",
    "       Ra = Ra + K * (1/2 - Pa) \n",
    "        \n",
    "       Rb = Rb + K * (1/2 - Pb) \n",
    "    else:        \n",
    "       Ra = Ra + K * (1 - Pa) \n",
    "       Rb = Rb + K * (0 - Pb) \n",
    "    \n",
    "    return Ra, Rb"
   ]
  },
  {
   "cell_type": "code",
   "execution_count": 2,
   "id": "90ae021d-a097-4a1b-bdac-b39b4f922558",
   "metadata": {},
   "outputs": [],
   "source": [
    "import pandas as pd\n",
    "pathGames = '/FILEPATH/' #Load in Game filepath\n",
    "pathTeams = '/FILEPATH/' #Load in the team filepath\n",
    "gameFilename = '.txt' #Load Game file\n",
    "teamFilename = '.txt' #Load Teamfile\n",
    "games = pd.read_csv(pathGames + gameFilename, skiprows = 1, header = None)\n",
    "\n",
    "#We got our data from masseyratings.com, so reading the files is based on the structure of those files"
   ]
  },
  {
   "cell_type": "code",
   "execution_count": 3,
   "id": "d230d653-30b3-4f7e-a707-1cef6f571d60",
   "metadata": {},
   "outputs": [],
   "source": [
    "import pandas as pd\n",
    "\n",
    "teamNames = pd.read_csv(pathTeams + teamFilename, header = None)\n",
    "numTeams = len(teamNames)"
   ]
  },
  {
   "cell_type": "code",
   "execution_count": 4,
   "id": "ed57e3bc-8232-4101-9614-173a4d0c2962",
   "metadata": {},
   "outputs": [],
   "source": [
    "# columns of games are:\n",
    "#\tcolumn 0 = days since 1/1/0000\n",
    "#\tcolumn 1 = date in YYYYMMDD format\n",
    "#\tcolumn 2 = team1 index\n",
    "#\tcolumn 3 = team1 homefield (1 = home, -1 = away, 0 = neutral)\n",
    "#\tcolumn 4 = team1 score\n",
    "#\tcolumn 5 = team2 index\n",
    "#\tcolumn 6 = team2 homefield (1 = home, -1 = away, 0 = neutral)\n",
    "#\tcolumn 7 = team2 score\n",
    "numGames = len(games)"
   ]
  },
  {
   "cell_type": "code",
   "execution_count": 5,
   "id": "2c363e84-34b8-4648-a7ab-2cfbba828d60",
   "metadata": {},
   "outputs": [
    {
     "name": "stdout",
     "output_type": "stream",
     "text": [
      "The best K in [0, 30] is 28 with MSE of 0.4364364901863854\n",
      "The best K in [27.5, 28.5] is 28.2 with MSE of 0.4364360773920701\n"
     ]
    }
   ],
   "source": [
    "#Finding the optimal K\n",
    "import numpy as np\n",
    "\n",
    "sigFig = 2 #number of sigfigs for optimal K to go to \n",
    "for p in range(sigFig):\n",
    "    \n",
    "    if p == 0:    \n",
    "        startK = 0 #The K's to check range from startK to endK (inclusive)\n",
    "        endK = 30\n",
    "        step = 1\n",
    "    else:\n",
    "        startK = bestK - step*(1/2)\n",
    "        endK = bestK + step*(1/2)\n",
    "        step = 10**(-p)\n",
    "        \n",
    "    runs = int((endK - startK) / step) + 1 #number of checks at each sigfig power \n",
    "\n",
    "    allErrors = [] #holds all the errors at current sigfig level\n",
    "    for m in range(runs):\n",
    "        K = startK + (m * step)\n",
    "        squaredErrors = [] #Holds the errors for this particular K\n",
    "        eloRatings = np.zeros(numTeams) #resets ratings for this particular K\n",
    "        for i in range(numGames): \n",
    "            team1ID = games.loc[i, 2] - 1 # subtracting 1 since python indexes at 0\n",
    "            team1Score = games.loc[i, 4]\n",
    "            team2ID = games.loc[i, 5] - 1 # subtracting 1 since python indexes at 0\n",
    "            team2Score = games.loc[i, 7]\n",
    "            \n",
    "            # Update ratings \n",
    "            if team1Score > team2Score: \n",
    "                localError = 2*((Probability(eloRatings[team2ID],eloRatings[team1ID]) - 1)**2) #Errors calculated at the time of the game\n",
    "                squaredErrors.append(localError)\n",
    "                team1Rating, team2Rating = EloRating(eloRatings[team1ID], eloRatings[team2ID], K, False)\n",
    "            elif team1Score < team2Score: \n",
    "                localError = 2*((Probability(eloRatings[team1ID],eloRatings[team2ID]) - 1)**2) \n",
    "                squaredErrors.append(localError)\n",
    "                team2Rating, team1Rating = EloRating(eloRatings[team2ID], eloRatings[team1ID], K, False)\n",
    "            else:  \n",
    "                team1Rating, team2Rating = EloRating(eloRatings[team1ID], eloRatings[team2ID], K, True)\n",
    "                \n",
    "            eloRatings[team1ID] = team1Rating\n",
    "            eloRatings[team2ID] = team2Rating\n",
    "        meanError = sum(squaredErrors) / len(squaredErrors) \n",
    "        \n",
    "        allErrors.append(meanError)\n",
    "        #print(f'The mean squared Error for K = {K} is {meanError}') #optional to see MSE at each K value\n",
    "    \n",
    "    bestK = (np.argmin(allErrors) * step) + startK\n",
    "    print(f'The best K in [{startK}, {endK}] is {bestK} with MSE of {allErrors[np.argmin(allErrors)]}')\n",
    "K = bestK #Setting K to the best K to see the rankings with that K"
   ]
  },
  {
   "cell_type": "code",
   "execution_count": 6,
   "id": "e11dc704-5c08-4efa-b88c-1be55a06f1c6",
   "metadata": {},
   "outputs": [
    {
     "name": "stdout",
     "output_type": "stream",
     "text": [
      "\n",
      "\n",
      "************** ELO Rating Method **************\n",
      "\n",
      "===========================\n",
      "Rank   Rating      Team   \n",
      "===========================\n",
      "   1   264.49582   Oklahoma_City\n",
      "   2   190.66572   Boston\n",
      "   3   160.96067   Cleveland\n",
      "   4   154.24309   LA_Clippers\n",
      "   5   130.43202   Indiana\n",
      "   6   112.55701   Minnesota\n",
      "   7   105.60607   Golden_State\n",
      "   8   105.12610   Milwaukee\n",
      "   9   95.13273   LA_Lakers\n",
      "  10   88.06545   Houston\n",
      "  11   84.38761   Denver\n",
      "  12   65.80435   New_York\n",
      "  13   26.35769   Orlando\n",
      "  14   25.25217   Detroit\n",
      "  15   20.92438   Memphis\n",
      "  16   20.10014   Chicago\n",
      "  17   -1.90479   Portland\n",
      "  18   -26.79873   Sacramento\n",
      "  19   -35.68379   Miami\n",
      "  20   -42.91009   Atlanta\n",
      "  21   -60.79175   Dallas\n",
      "  22   -65.47211   Phoenix\n",
      "  23   -74.81054   San_Antonio\n",
      "  24   -96.61217   Toronto\n",
      "  25   -163.02383   Brooklyn\n",
      "  26   -180.40347   New_Orleans\n",
      "  27   -201.22185   Washington\n",
      "  28   -226.81253   Philadelphia\n",
      "  29   -233.91940   Utah\n",
      "  30   -239.74597   Charlotte\n",
      "\n"
     ]
    }
   ],
   "source": [
    "#Printing the ratings/rankings with the optimal K just found\n",
    "\n",
    "k = 0 #Number of teams to display; k = 0 displays all teams\n",
    "iSort = np.argsort(-eloRatings)\n",
    "\n",
    "print('\\n\\n************** ELO Rating Method **************\\n')\n",
    "print('===========================')\n",
    "print('Rank   Rating      Team   ')\n",
    "print('===========================')\n",
    "if k == 0:\n",
    "    for i in range(numTeams):\n",
    "        print(f'{i+1:4d}   {eloRatings[iSort[i]]:.5f}  {teamNames.loc[iSort[i],1]}')\n",
    "else:\n",
    "    for i in range(k):\n",
    "        print(f'{i+1:4d}   {eloRatings[iSort[i]]:.5f}  {teamNames.loc[iSort[i],1]}')\n",
    "\n",
    "print('')   # extra carriage return"
   ]
  }
 ],
 "metadata": {
  "kernelspec": {
   "display_name": "Python 3.10",
   "language": "python",
   "name": "python-3.10"
  },
  "language_info": {
   "codemirror_mode": {
    "name": "ipython",
    "version": 3
   },
   "file_extension": ".py",
   "mimetype": "text/x-python",
   "name": "python",
   "nbconvert_exporter": "python",
   "pygments_lexer": "ipython3",
   "version": "3.10.4"
  }
 },
 "nbformat": 4,
 "nbformat_minor": 5
}
